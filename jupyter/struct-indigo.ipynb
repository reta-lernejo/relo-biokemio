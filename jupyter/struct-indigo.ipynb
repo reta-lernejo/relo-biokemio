{
 "cells": [
  {
   "cell_type": "code",
   "execution_count": 39,
   "metadata": {},
   "outputs": [
    {
     "ename": "IndigoException",
     "evalue": "molecule auto loader: SMILES loader: invalid character within atom description: '>'",
     "output_type": "error",
     "traceback": [
      "\u001b[0;31m---------------------------------------------------------------------------\u001b[0m",
      "\u001b[0;31mIndigoException\u001b[0m                           Traceback (most recent call last)",
      "\u001b[0;32m<ipython-input-39-4d0f0a0cd7bd>\u001b[0m in \u001b[0;36m<module>\u001b[0;34m\u001b[0m\n\u001b[1;32m     29\u001b[0m \u001b[0;32mfor\u001b[0m \u001b[0mname\u001b[0m\u001b[0;34m,\u001b[0m \u001b[0mdata\u001b[0m \u001b[0;32min\u001b[0m \u001b[0minput\u001b[0m\u001b[0;34m.\u001b[0m\u001b[0mitems\u001b[0m\u001b[0;34m(\u001b[0m\u001b[0;34m)\u001b[0m\u001b[0;34m:\u001b[0m\u001b[0;34m\u001b[0m\u001b[0;34m\u001b[0m\u001b[0m\n\u001b[1;32m     30\u001b[0m     \u001b[0;31m#mol = indigo.loadMolecule(data[0])\u001b[0m\u001b[0;34m\u001b[0m\u001b[0;34m\u001b[0m\u001b[0;34m\u001b[0m\u001b[0m\n\u001b[0;32m---> 31\u001b[0;31m     \u001b[0mmol\u001b[0m \u001b[0;34m=\u001b[0m \u001b[0mindigo\u001b[0m\u001b[0;34m.\u001b[0m\u001b[0mloadMolecule\u001b[0m\u001b[0;34m(\u001b[0m\u001b[0mdata\u001b[0m\u001b[0;34m[\u001b[0m\u001b[0;36m0\u001b[0m\u001b[0;34m]\u001b[0m\u001b[0;34m)\u001b[0m\u001b[0;34m\u001b[0m\u001b[0;34m\u001b[0m\u001b[0m\n\u001b[0m\u001b[1;32m     32\u001b[0m     \u001b[0mmol\u001b[0m\u001b[0;34m.\u001b[0m\u001b[0mlayout\u001b[0m\u001b[0;34m(\u001b[0m\u001b[0;34m)\u001b[0m \u001b[0;31m# if not called, will be done automatically by the renderer\u001b[0m\u001b[0;34m\u001b[0m\u001b[0;34m\u001b[0m\u001b[0m\n\u001b[1;32m     33\u001b[0m     \u001b[0mindigo\u001b[0m\u001b[0;34m.\u001b[0m\u001b[0msetOption\u001b[0m\u001b[0;34m(\u001b[0m\u001b[0;34m\"render-output-format\"\u001b[0m\u001b[0;34m,\u001b[0m \u001b[0;34m\"png\"\u001b[0m\u001b[0;34m)\u001b[0m\u001b[0;34m\u001b[0m\u001b[0;34m\u001b[0m\u001b[0m\n",
      "\u001b[0;32m~/.local/lib/python3.6/site-packages/indigo/__init__.py\u001b[0m in \u001b[0;36mloadMolecule\u001b[0;34m(self, string)\u001b[0m\n\u001b[1;32m   5505\u001b[0m             self._checkResult(\n\u001b[1;32m   5506\u001b[0m                 Indigo._lib.indigoLoadMoleculeFromString(\n\u001b[0;32m-> 5507\u001b[0;31m                     \u001b[0mstring\u001b[0m\u001b[0;34m.\u001b[0m\u001b[0mencode\u001b[0m\u001b[0;34m(\u001b[0m\u001b[0mENCODE_ENCODING\u001b[0m\u001b[0;34m)\u001b[0m\u001b[0;34m\u001b[0m\u001b[0;34m\u001b[0m\u001b[0m\n\u001b[0m\u001b[1;32m   5508\u001b[0m                 )\n\u001b[1;32m   5509\u001b[0m             ),\n",
      "\u001b[0;32m~/.local/lib/python3.6/site-packages/indigo/__init__.py\u001b[0m in \u001b[0;36m_checkResult\u001b[0;34m(self, result)\u001b[0m\n\u001b[1;32m   5375\u001b[0m     \u001b[0;32mdef\u001b[0m \u001b[0m_checkResult\u001b[0m\u001b[0;34m(\u001b[0m\u001b[0mself\u001b[0m\u001b[0;34m,\u001b[0m \u001b[0mresult\u001b[0m\u001b[0;34m)\u001b[0m\u001b[0;34m:\u001b[0m\u001b[0;34m\u001b[0m\u001b[0;34m\u001b[0m\u001b[0m\n\u001b[1;32m   5376\u001b[0m         \u001b[0;32mif\u001b[0m \u001b[0mresult\u001b[0m \u001b[0;34m<\u001b[0m \u001b[0;36m0\u001b[0m\u001b[0;34m:\u001b[0m\u001b[0;34m\u001b[0m\u001b[0;34m\u001b[0m\u001b[0m\n\u001b[0;32m-> 5377\u001b[0;31m             \u001b[0;32mraise\u001b[0m \u001b[0mIndigoException\u001b[0m\u001b[0;34m(\u001b[0m\u001b[0mIndigo\u001b[0m\u001b[0;34m.\u001b[0m\u001b[0m_lib\u001b[0m\u001b[0;34m.\u001b[0m\u001b[0mindigoGetLastError\u001b[0m\u001b[0;34m(\u001b[0m\u001b[0;34m)\u001b[0m\u001b[0;34m)\u001b[0m\u001b[0;34m\u001b[0m\u001b[0;34m\u001b[0m\u001b[0m\n\u001b[0m\u001b[1;32m   5378\u001b[0m         \u001b[0;32mreturn\u001b[0m \u001b[0mresult\u001b[0m\u001b[0;34m\u001b[0m\u001b[0;34m\u001b[0m\u001b[0m\n\u001b[1;32m   5379\u001b[0m \u001b[0;34m\u001b[0m\u001b[0m\n",
      "\u001b[0;31mIndigoException\u001b[0m: molecule auto loader: SMILES loader: invalid character within atom description: '>'"
     ]
    }
   ],
   "source": [
    "from indigo import Indigo\n",
    "#from indigo.inchi import IndigoInchi\n",
    "from indigo.renderer import IndigoRenderer\n",
    "from IPython.display import Image\n",
    "\n",
    "input={\n",
    "    \"test\": ['[Na+].O=C([O-])O.HCl>>[Na+].[Cl-].O=C(O)O',400,100]\n",
    "#    'FADH2':['CC1=CC2=C(C=C1C)N(C3=C(N2)C(=O)NC(=O)N3)C[C@@H]([C@@H]([C@@H](COP(=O)([O-])OP(=O)([O-])OC[C@@H]4[C@H]([C@H]([C@@H](O4)N5C=NC6=C(N=CN=C65)N)O)O)O)O)O',500,300],\n",
    "#    'FAD': ['CC1=CC2=C(C=C1C)N(C3=NC(=O)NC(=O)C3=N2)C[C@@H]([C@@H]([C@@H](COP(=O)(O)OP(=O)(O)OC[C@@H]4[C@H]([C@H]([C@@H](O4)N5C=NC6=C(N=CN=C65)N)O)O)O)O)O',500,300],\n",
    "#    \"fumarato\": ['C(=C/C(=O)O)\\C(=O)O',200,200]\n",
    "\n",
    "#    \"fosfato 1:\":['[O-]P([O-])([O-])=O',100,100],\n",
    "#    \"fosfato 2:\":['[O-]P(=O)([O-])[O-]',100,100],\n",
    "#    \"fosfato 3:\":['O=P([O-])([O-])[O-]',100,100],\n",
    "#    \"fosfato 4\": ['[O-][P+]([O-])([O-])[O-]',100,100]\n",
    "    }\n",
    "\n",
    "# http://epam.github.io/lifescience/download/indigo/index.html\n",
    "# https://github.com/epam/Indigo\n",
    "# pip3 install numpy\n",
    "# pip3 install epma.indigo\n",
    "\n",
    "indigo = Indigo()\n",
    "renderer = IndigoRenderer(indigo)\n",
    "#indigo.setOption(\"render-output-format\", \"svg\")\n",
    "\n",
    "#inchi = IndigoInchi(indigo)\n",
    "\n",
    "for name, data in input.items():\n",
    "    #mol = indigo.loadMolecule(data[0])\n",
    "    mol = indigo.loadMolecule(data[0])\n",
    "    mol.layout() # if not called, will be done automatically by the renderer \n",
    "    indigo.setOption(\"render-output-format\", \"png\")\n",
    "    indigo.setOption(\"render-comment\", name)\n",
    "    indigo.setOption(\"render-comment-position\", \"top\")\n",
    "    indigo.setOption(\"render-image-size\", data[1], data[2])\n",
    "    indigo.setOption(\"render-background-color\", 1.0, 1.0, 1.0)\n",
    "    #svg = renderer.renderToString(m)\n",
    "    renderer.renderToFile(mol, \"output.png\")\n",
    "    display(Image(filename=\"output.png\")) "
   ]
  }
 ],
 "metadata": {
  "interpreter": {
   "hash": "31f2aee4e71d21fbe5cf8b01ff0e069b9275f58929596ceb00d14d90e3e16cd6"
  },
  "kernelspec": {
   "display_name": "Python 3.6.9 64-bit",
   "language": "python",
   "name": "python3"
  },
  "language_info": {
   "codemirror_mode": {
    "name": "ipython",
    "version": 3
   },
   "file_extension": ".py",
   "mimetype": "text/x-python",
   "name": "python",
   "nbconvert_exporter": "python",
   "pygments_lexer": "ipython3",
   "version": "3.6.9"
  },
  "orig_nbformat": 4
 },
 "nbformat": 4,
 "nbformat_minor": 2
}
